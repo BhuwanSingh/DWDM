{
 "cells": [
  {
   "cell_type": "code",
   "execution_count": 1,
   "metadata": {},
   "outputs": [],
   "source": [
    "def power2(x):\n",
    "    ans = 1\n",
    "    if x and not(x&(x-1)):\n",
    "        return x\n",
    "    while ans<x:\n",
    "        ans <<=1\n",
    "    return ans"
   ]
  },
  {
   "cell_type": "code",
   "execution_count": 2,
   "metadata": {},
   "outputs": [],
   "source": [
    "def util(arr, l):\n",
    "    if l == 1:\n",
    "        return arr\n",
    "    mid = l//2\n",
    "    new_arr = arr.copy()\n",
    "    for i in range(mid):\n",
    "        new_arr[i] = (arr[2*i] + arr[2*i+1])//2\n",
    "        new_arr[i+mid] = arr[2*i] - new_arr[i]\n",
    "    \n",
    "    return util(new_arr, mid)\n",
    "    \n",
    "\n",
    "def transform(inp):\n",
    "    l = len(inp)\n",
    "    high = power2(l)\n",
    "\n",
    "    while len(inp) < high:\n",
    "        inp.append(0)\n",
    "    \n",
    "    transformed = util(inp, l)\n",
    "    return transformed"
   ]
  },
  {
   "cell_type": "code",
   "execution_count": 3,
   "metadata": {},
   "outputs": [
    {
     "data": {
      "text/plain": [
       "[35, -3, 16, 10, 8, -8, 0, 12]"
      ]
     },
     "execution_count": 3,
     "metadata": {},
     "output_type": "execute_result"
    }
   ],
   "source": [
    "transform([56, 40, 8, 24, 48, 48, 40, 16])"
   ]
  },
  {
   "cell_type": "code",
   "execution_count": 4,
   "metadata": {},
   "outputs": [],
   "source": [
    "threshold = 4"
   ]
  },
  {
   "cell_type": "code",
   "execution_count": 5,
   "metadata": {},
   "outputs": [],
   "source": [
    "def inverseUtil(inp, l):\n",
    "    if l == len(inp):\n",
    "        return inp\n",
    "\n",
    "    mid = l*2\n",
    "    new_arr = inp.copy()\n",
    "    for i in range(l):\n",
    "        new_arr[2*i] = inp[i] + inp[i+l]\n",
    "        new_arr[2*i+1] = inp[i] - inp[i+l]\n",
    "    \n",
    "    return inverseUtil(new_arr, mid)\n",
    "\n",
    "\n",
    "def inverse(inp, threshold):\n",
    "    l = len(inp)\n",
    "    high = power2(l)\n",
    "    \n",
    "    while len(inp) < high:\n",
    "        inp.append(0)\n",
    "    \n",
    "    inp = [0 if i < threshold else i for i in inp]\n",
    "    \n",
    "    transformed = inverseUtil(inp,1)\n",
    "    return transformed"
   ]
  },
  {
   "cell_type": "code",
   "execution_count": 6,
   "metadata": {},
   "outputs": [
    {
     "data": {
      "text/plain": [
       "[51, 51, 19, 19, 45, 45, 37, 13]"
      ]
     },
     "execution_count": 6,
     "metadata": {},
     "output_type": "execute_result"
    }
   ],
   "source": [
    "inverse(transform([56, 40, 8, 24, 48, 48, 40, 16]), 9)"
   ]
  },
  {
   "cell_type": "code",
   "execution_count": 7,
   "metadata": {},
   "outputs": [],
   "source": [
    "import matplotlib.pyplot as plt\n",
    "\n",
    "def run():\n",
    "    inp = [2,2,1,2,3,5,4,4]\n",
    "    transformed = transform(inp)\n",
    "    threshold = -10\n",
    "    reduced = inverse(transformed, threshold)\n",
    "    plt.plot(inp, label=\"Input data\")\n",
    "    plt.plot(transformed, label=\"Transformed data\")\n",
    "    plt.plot(reduced, label=\"Reconstructed data\")\n",
    "    plt.legend()\n",
    "    plt.show()"
   ]
  },
  {
   "cell_type": "code",
   "execution_count": 8,
   "metadata": {},
   "outputs": [
    {
     "data": {
      "image/png": "[encoded data removed]",
      "text/plain": [
       "<Figure size 432x288 with 1 Axes>"
      ]
     },
     "metadata": {
      "needs_background": "light"
     },
     "output_type": "display_data"
    }
   ],
   "source": [
    "run()"
   ]
  },
  {
   "cell_type": "code",
   "execution_count": null,
   "metadata": {},
   "outputs": [],
   "source": []
  }
 ],
 "metadata": {
  "interpreter": {
   "hash": "1baa965d5efe3ac65b79dfc60c0d706280b1da80fedb7760faf2759126c4f253"
  },
  "kernelspec": {
   "display_name": "Python 3.8.10 64-bit",
   "language": "python",
   "name": "python3"
  },
  "language_info": {
   "codemirror_mode": {
    "name": "ipython",
    "version": 3
   },
   "file_extension": ".py",
   "mimetype": "text/x-python",
   "name": "python",
   "nbconvert_exporter": "python",
   "pygments_lexer": "ipython3",
   "version": "3.9.7"
  },
  "orig_nbformat": 4
 },
 "nbformat": 4,
 "nbformat_minor": 2
}
